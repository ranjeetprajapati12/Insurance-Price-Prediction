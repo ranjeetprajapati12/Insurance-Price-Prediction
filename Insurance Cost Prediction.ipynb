{
 "cells": [
  {
   "cell_type": "markdown",
   "id": "76b139eb",
   "metadata": {},
   "source": [
    "### Context\n",
    "    Machine Learning with R by Brett Lantz is a book that provides an introduction to machine learning using R. As far as I can tell, Packt Publishing does not make its datasets available online unless you buy the book and create a user account which can be a problem if you are checking the book out from the library or borrowing the book from a friend. All of these datasets are in the public domain but simply needed some cleaning up and recoding to match the format in the book.\n",
    "\n",
    "### Content\n",
    "    Columns\n",
    "\n",
    "    age: age of primary beneficiary\n",
    "\n",
    "    sex: insurance contractor gender, female, male\n",
    "\n",
    "    bmi: Body mass index, providing an understanding of body, weights that are relatively high or low relative to height,\n",
    "    objective index of body weight (kg / m ^ 2) using the ratio of height to weight, ideally 18.5 to 24.9\n",
    "\n",
    "    children: Number of children covered by health insurance / Number of dependents\n",
    "\n",
    "    smoker: Smoking\n",
    "\n",
    "    region: the beneficiary's residential area in the US, northeast, southeast, southwest, northwest.\n",
    "\n",
    "    charges: Individual medical costs billed by health insurance"
   ]
  },
  {
   "cell_type": "markdown",
   "id": "7cf283fa",
   "metadata": {},
   "source": [
    "### Problem Statemnet: Predict the price of insurance based on the given details."
   ]
  },
  {
   "cell_type": "code",
   "execution_count": 1,
   "id": "af1d34b4",
   "metadata": {},
   "outputs": [],
   "source": [
    "# Importing the libraries.\n",
    "import pandas as pd\n",
    "import numpy as np\n",
    "import matplotlib.pyplot as plt\n",
    "import seaborn as sns"
   ]
  },
  {
   "cell_type": "code",
   "execution_count": 2,
   "id": "aab1a030",
   "metadata": {},
   "outputs": [],
   "source": [
    "df=pd.read_csv(r'G:\\DATA_SCIENCE\\EDA\\Dataset\\insurance.csv')"
   ]
  },
  {
   "cell_type": "code",
   "execution_count": 3,
   "id": "505cd946",
   "metadata": {},
   "outputs": [
    {
     "data": {
      "text/html": [
       "<div>\n",
       "<style scoped>\n",
       "    .dataframe tbody tr th:only-of-type {\n",
       "        vertical-align: middle;\n",
       "    }\n",
       "\n",
       "    .dataframe tbody tr th {\n",
       "        vertical-align: top;\n",
       "    }\n",
       "\n",
       "    .dataframe thead th {\n",
       "        text-align: right;\n",
       "    }\n",
       "</style>\n",
       "<table border=\"1\" class=\"dataframe\">\n",
       "  <thead>\n",
       "    <tr style=\"text-align: right;\">\n",
       "      <th></th>\n",
       "      <th>age</th>\n",
       "      <th>sex</th>\n",
       "      <th>bmi</th>\n",
       "      <th>children</th>\n",
       "      <th>smoker</th>\n",
       "      <th>region</th>\n",
       "      <th>charges</th>\n",
       "    </tr>\n",
       "  </thead>\n",
       "  <tbody>\n",
       "    <tr>\n",
       "      <th>0</th>\n",
       "      <td>19</td>\n",
       "      <td>female</td>\n",
       "      <td>27.900</td>\n",
       "      <td>0</td>\n",
       "      <td>yes</td>\n",
       "      <td>southwest</td>\n",
       "      <td>16884.92400</td>\n",
       "    </tr>\n",
       "    <tr>\n",
       "      <th>1</th>\n",
       "      <td>18</td>\n",
       "      <td>male</td>\n",
       "      <td>33.770</td>\n",
       "      <td>1</td>\n",
       "      <td>no</td>\n",
       "      <td>southeast</td>\n",
       "      <td>1725.55230</td>\n",
       "    </tr>\n",
       "    <tr>\n",
       "      <th>2</th>\n",
       "      <td>28</td>\n",
       "      <td>male</td>\n",
       "      <td>33.000</td>\n",
       "      <td>3</td>\n",
       "      <td>no</td>\n",
       "      <td>southeast</td>\n",
       "      <td>4449.46200</td>\n",
       "    </tr>\n",
       "    <tr>\n",
       "      <th>3</th>\n",
       "      <td>33</td>\n",
       "      <td>male</td>\n",
       "      <td>22.705</td>\n",
       "      <td>0</td>\n",
       "      <td>no</td>\n",
       "      <td>northwest</td>\n",
       "      <td>21984.47061</td>\n",
       "    </tr>\n",
       "    <tr>\n",
       "      <th>4</th>\n",
       "      <td>32</td>\n",
       "      <td>male</td>\n",
       "      <td>28.880</td>\n",
       "      <td>0</td>\n",
       "      <td>no</td>\n",
       "      <td>northwest</td>\n",
       "      <td>3866.85520</td>\n",
       "    </tr>\n",
       "    <tr>\n",
       "      <th>...</th>\n",
       "      <td>...</td>\n",
       "      <td>...</td>\n",
       "      <td>...</td>\n",
       "      <td>...</td>\n",
       "      <td>...</td>\n",
       "      <td>...</td>\n",
       "      <td>...</td>\n",
       "    </tr>\n",
       "    <tr>\n",
       "      <th>1333</th>\n",
       "      <td>50</td>\n",
       "      <td>male</td>\n",
       "      <td>30.970</td>\n",
       "      <td>3</td>\n",
       "      <td>no</td>\n",
       "      <td>northwest</td>\n",
       "      <td>10600.54830</td>\n",
       "    </tr>\n",
       "    <tr>\n",
       "      <th>1334</th>\n",
       "      <td>18</td>\n",
       "      <td>female</td>\n",
       "      <td>31.920</td>\n",
       "      <td>0</td>\n",
       "      <td>no</td>\n",
       "      <td>northeast</td>\n",
       "      <td>2205.98080</td>\n",
       "    </tr>\n",
       "    <tr>\n",
       "      <th>1335</th>\n",
       "      <td>18</td>\n",
       "      <td>female</td>\n",
       "      <td>36.850</td>\n",
       "      <td>0</td>\n",
       "      <td>no</td>\n",
       "      <td>southeast</td>\n",
       "      <td>1629.83350</td>\n",
       "    </tr>\n",
       "    <tr>\n",
       "      <th>1336</th>\n",
       "      <td>21</td>\n",
       "      <td>female</td>\n",
       "      <td>25.800</td>\n",
       "      <td>0</td>\n",
       "      <td>no</td>\n",
       "      <td>southwest</td>\n",
       "      <td>2007.94500</td>\n",
       "    </tr>\n",
       "    <tr>\n",
       "      <th>1337</th>\n",
       "      <td>61</td>\n",
       "      <td>female</td>\n",
       "      <td>29.070</td>\n",
       "      <td>0</td>\n",
       "      <td>yes</td>\n",
       "      <td>northwest</td>\n",
       "      <td>29141.36030</td>\n",
       "    </tr>\n",
       "  </tbody>\n",
       "</table>\n",
       "<p>1338 rows × 7 columns</p>\n",
       "</div>"
      ],
      "text/plain": [
       "      age     sex     bmi  children smoker     region      charges\n",
       "0      19  female  27.900         0    yes  southwest  16884.92400\n",
       "1      18    male  33.770         1     no  southeast   1725.55230\n",
       "2      28    male  33.000         3     no  southeast   4449.46200\n",
       "3      33    male  22.705         0     no  northwest  21984.47061\n",
       "4      32    male  28.880         0     no  northwest   3866.85520\n",
       "...   ...     ...     ...       ...    ...        ...          ...\n",
       "1333   50    male  30.970         3     no  northwest  10600.54830\n",
       "1334   18  female  31.920         0     no  northeast   2205.98080\n",
       "1335   18  female  36.850         0     no  southeast   1629.83350\n",
       "1336   21  female  25.800         0     no  southwest   2007.94500\n",
       "1337   61  female  29.070         0    yes  northwest  29141.36030\n",
       "\n",
       "[1338 rows x 7 columns]"
      ]
     },
     "execution_count": 3,
     "metadata": {},
     "output_type": "execute_result"
    }
   ],
   "source": [
    "df"
   ]
  },
  {
   "cell_type": "code",
   "execution_count": 4,
   "id": "7ace22ee",
   "metadata": {},
   "outputs": [
    {
     "name": "stdout",
     "output_type": "stream",
     "text": [
      "<class 'pandas.core.frame.DataFrame'>\n",
      "RangeIndex: 1338 entries, 0 to 1337\n",
      "Data columns (total 7 columns):\n",
      " #   Column    Non-Null Count  Dtype  \n",
      "---  ------    --------------  -----  \n",
      " 0   age       1338 non-null   int64  \n",
      " 1   sex       1338 non-null   object \n",
      " 2   bmi       1338 non-null   float64\n",
      " 3   children  1338 non-null   int64  \n",
      " 4   smoker    1338 non-null   object \n",
      " 5   region    1338 non-null   object \n",
      " 6   charges   1338 non-null   float64\n",
      "dtypes: float64(2), int64(2), object(3)\n",
      "memory usage: 73.3+ KB\n"
     ]
    }
   ],
   "source": [
    "df.info()"
   ]
  },
  {
   "cell_type": "code",
   "execution_count": 5,
   "id": "c59b7117",
   "metadata": {},
   "outputs": [
    {
     "data": {
      "text/plain": [
       "array(['southwest', 'southeast', 'northwest', 'northeast'], dtype=object)"
      ]
     },
     "execution_count": 5,
     "metadata": {},
     "output_type": "execute_result"
    }
   ],
   "source": [
    "df['region'].unique()"
   ]
  },
  {
   "cell_type": "code",
   "execution_count": 6,
   "id": "a5f5d39e",
   "metadata": {},
   "outputs": [],
   "source": [
    "df['sex']=df['sex'].map({\"female\":0,\"male\":1})"
   ]
  },
  {
   "cell_type": "code",
   "execution_count": 7,
   "id": "2cef819d",
   "metadata": {},
   "outputs": [],
   "source": [
    "df['region']=df['region'].map({'southwest':1, 'southeast':2, 'northwest':3, 'northeast':4})\n",
    "df['smoker']=df['smoker'].map({\"no\":0,\"yes\":1})"
   ]
  },
  {
   "cell_type": "code",
   "execution_count": 8,
   "id": "918786a4",
   "metadata": {},
   "outputs": [
    {
     "name": "stdout",
     "output_type": "stream",
     "text": [
      "<class 'pandas.core.frame.DataFrame'>\n",
      "RangeIndex: 1338 entries, 0 to 1337\n",
      "Data columns (total 7 columns):\n",
      " #   Column    Non-Null Count  Dtype  \n",
      "---  ------    --------------  -----  \n",
      " 0   age       1338 non-null   int64  \n",
      " 1   sex       1338 non-null   int64  \n",
      " 2   bmi       1338 non-null   float64\n",
      " 3   children  1338 non-null   int64  \n",
      " 4   smoker    1338 non-null   int64  \n",
      " 5   region    1338 non-null   int64  \n",
      " 6   charges   1338 non-null   float64\n",
      "dtypes: float64(2), int64(5)\n",
      "memory usage: 73.3 KB\n"
     ]
    }
   ],
   "source": [
    "df.info()"
   ]
  },
  {
   "cell_type": "code",
   "execution_count": 9,
   "id": "9bcb3075",
   "metadata": {},
   "outputs": [
    {
     "data": {
      "text/plain": [
       "<AxesSubplot:>"
      ]
     },
     "execution_count": 9,
     "metadata": {},
     "output_type": "execute_result"
    },
    {
     "data": {
      "image/png": "[encoded data removed]",
      "text/plain": [
       "<Figure size 432x288 with 2 Axes>"
      ]
     },
     "metadata": {
      "needs_background": "light"
     },
     "output_type": "display_data"
    }
   ],
   "source": [
    "sns.heatmap(df.corr(),annot=True)"
   ]
  },
  {
   "cell_type": "code",
   "execution_count": 10,
   "id": "59b264af",
   "metadata": {},
   "outputs": [
    {
     "data": {
      "text/html": [
       "<div>\n",
       "<style scoped>\n",
       "    .dataframe tbody tr th:only-of-type {\n",
       "        vertical-align: middle;\n",
       "    }\n",
       "\n",
       "    .dataframe tbody tr th {\n",
       "        vertical-align: top;\n",
       "    }\n",
       "\n",
       "    .dataframe thead th {\n",
       "        text-align: right;\n",
       "    }\n",
       "</style>\n",
       "<table border=\"1\" class=\"dataframe\">\n",
       "  <thead>\n",
       "    <tr style=\"text-align: right;\">\n",
       "      <th></th>\n",
       "      <th>age</th>\n",
       "      <th>sex</th>\n",
       "      <th>bmi</th>\n",
       "      <th>children</th>\n",
       "      <th>smoker</th>\n",
       "      <th>region</th>\n",
       "      <th>charges</th>\n",
       "    </tr>\n",
       "  </thead>\n",
       "  <tbody>\n",
       "    <tr>\n",
       "      <th>0</th>\n",
       "      <td>19</td>\n",
       "      <td>0</td>\n",
       "      <td>27.900</td>\n",
       "      <td>0</td>\n",
       "      <td>1</td>\n",
       "      <td>1</td>\n",
       "      <td>16884.92400</td>\n",
       "    </tr>\n",
       "    <tr>\n",
       "      <th>1</th>\n",
       "      <td>18</td>\n",
       "      <td>1</td>\n",
       "      <td>33.770</td>\n",
       "      <td>1</td>\n",
       "      <td>0</td>\n",
       "      <td>2</td>\n",
       "      <td>1725.55230</td>\n",
       "    </tr>\n",
       "    <tr>\n",
       "      <th>2</th>\n",
       "      <td>28</td>\n",
       "      <td>1</td>\n",
       "      <td>33.000</td>\n",
       "      <td>3</td>\n",
       "      <td>0</td>\n",
       "      <td>2</td>\n",
       "      <td>4449.46200</td>\n",
       "    </tr>\n",
       "    <tr>\n",
       "      <th>3</th>\n",
       "      <td>33</td>\n",
       "      <td>1</td>\n",
       "      <td>22.705</td>\n",
       "      <td>0</td>\n",
       "      <td>0</td>\n",
       "      <td>3</td>\n",
       "      <td>21984.47061</td>\n",
       "    </tr>\n",
       "    <tr>\n",
       "      <th>4</th>\n",
       "      <td>32</td>\n",
       "      <td>1</td>\n",
       "      <td>28.880</td>\n",
       "      <td>0</td>\n",
       "      <td>0</td>\n",
       "      <td>3</td>\n",
       "      <td>3866.85520</td>\n",
       "    </tr>\n",
       "    <tr>\n",
       "      <th>...</th>\n",
       "      <td>...</td>\n",
       "      <td>...</td>\n",
       "      <td>...</td>\n",
       "      <td>...</td>\n",
       "      <td>...</td>\n",
       "      <td>...</td>\n",
       "      <td>...</td>\n",
       "    </tr>\n",
       "    <tr>\n",
       "      <th>1333</th>\n",
       "      <td>50</td>\n",
       "      <td>1</td>\n",
       "      <td>30.970</td>\n",
       "      <td>3</td>\n",
       "      <td>0</td>\n",
       "      <td>3</td>\n",
       "      <td>10600.54830</td>\n",
       "    </tr>\n",
       "    <tr>\n",
       "      <th>1334</th>\n",
       "      <td>18</td>\n",
       "      <td>0</td>\n",
       "      <td>31.920</td>\n",
       "      <td>0</td>\n",
       "      <td>0</td>\n",
       "      <td>4</td>\n",
       "      <td>2205.98080</td>\n",
       "    </tr>\n",
       "    <tr>\n",
       "      <th>1335</th>\n",
       "      <td>18</td>\n",
       "      <td>0</td>\n",
       "      <td>36.850</td>\n",
       "      <td>0</td>\n",
       "      <td>0</td>\n",
       "      <td>2</td>\n",
       "      <td>1629.83350</td>\n",
       "    </tr>\n",
       "    <tr>\n",
       "      <th>1336</th>\n",
       "      <td>21</td>\n",
       "      <td>0</td>\n",
       "      <td>25.800</td>\n",
       "      <td>0</td>\n",
       "      <td>0</td>\n",
       "      <td>1</td>\n",
       "      <td>2007.94500</td>\n",
       "    </tr>\n",
       "    <tr>\n",
       "      <th>1337</th>\n",
       "      <td>61</td>\n",
       "      <td>0</td>\n",
       "      <td>29.070</td>\n",
       "      <td>0</td>\n",
       "      <td>1</td>\n",
       "      <td>3</td>\n",
       "      <td>29141.36030</td>\n",
       "    </tr>\n",
       "  </tbody>\n",
       "</table>\n",
       "<p>1338 rows × 7 columns</p>\n",
       "</div>"
      ],
      "text/plain": [
       "      age  sex     bmi  children  smoker  region      charges\n",
       "0      19    0  27.900         0       1       1  16884.92400\n",
       "1      18    1  33.770         1       0       2   1725.55230\n",
       "2      28    1  33.000         3       0       2   4449.46200\n",
       "3      33    1  22.705         0       0       3  21984.47061\n",
       "4      32    1  28.880         0       0       3   3866.85520\n",
       "...   ...  ...     ...       ...     ...     ...          ...\n",
       "1333   50    1  30.970         3       0       3  10600.54830\n",
       "1334   18    0  31.920         0       0       4   2205.98080\n",
       "1335   18    0  36.850         0       0       2   1629.83350\n",
       "1336   21    0  25.800         0       0       1   2007.94500\n",
       "1337   61    0  29.070         0       1       3  29141.36030\n",
       "\n",
       "[1338 rows x 7 columns]"
      ]
     },
     "execution_count": 10,
     "metadata": {},
     "output_type": "execute_result"
    }
   ],
   "source": [
    "df"
   ]
  },
  {
   "cell_type": "markdown",
   "id": "7d996a2b",
   "metadata": {},
   "source": [
    "# Machine Learning"
   ]
  },
  {
   "cell_type": "code",
   "execution_count": 11,
   "id": "828b3932",
   "metadata": {},
   "outputs": [],
   "source": [
    "# split into dependent and independent  feature\n",
    "x=df[df.columns[0:-1]]"
   ]
  },
  {
   "cell_type": "code",
   "execution_count": 12,
   "id": "081691c4",
   "metadata": {},
   "outputs": [
    {
     "data": {
      "text/html": [
       "<div>\n",
       "<style scoped>\n",
       "    .dataframe tbody tr th:only-of-type {\n",
       "        vertical-align: middle;\n",
       "    }\n",
       "\n",
       "    .dataframe tbody tr th {\n",
       "        vertical-align: top;\n",
       "    }\n",
       "\n",
       "    .dataframe thead th {\n",
       "        text-align: right;\n",
       "    }\n",
       "</style>\n",
       "<table border=\"1\" class=\"dataframe\">\n",
       "  <thead>\n",
       "    <tr style=\"text-align: right;\">\n",
       "      <th></th>\n",
       "      <th>age</th>\n",
       "      <th>sex</th>\n",
       "      <th>bmi</th>\n",
       "      <th>children</th>\n",
       "      <th>smoker</th>\n",
       "      <th>region</th>\n",
       "    </tr>\n",
       "  </thead>\n",
       "  <tbody>\n",
       "    <tr>\n",
       "      <th>0</th>\n",
       "      <td>19</td>\n",
       "      <td>0</td>\n",
       "      <td>27.900</td>\n",
       "      <td>0</td>\n",
       "      <td>1</td>\n",
       "      <td>1</td>\n",
       "    </tr>\n",
       "    <tr>\n",
       "      <th>1</th>\n",
       "      <td>18</td>\n",
       "      <td>1</td>\n",
       "      <td>33.770</td>\n",
       "      <td>1</td>\n",
       "      <td>0</td>\n",
       "      <td>2</td>\n",
       "    </tr>\n",
       "    <tr>\n",
       "      <th>2</th>\n",
       "      <td>28</td>\n",
       "      <td>1</td>\n",
       "      <td>33.000</td>\n",
       "      <td>3</td>\n",
       "      <td>0</td>\n",
       "      <td>2</td>\n",
       "    </tr>\n",
       "    <tr>\n",
       "      <th>3</th>\n",
       "      <td>33</td>\n",
       "      <td>1</td>\n",
       "      <td>22.705</td>\n",
       "      <td>0</td>\n",
       "      <td>0</td>\n",
       "      <td>3</td>\n",
       "    </tr>\n",
       "    <tr>\n",
       "      <th>4</th>\n",
       "      <td>32</td>\n",
       "      <td>1</td>\n",
       "      <td>28.880</td>\n",
       "      <td>0</td>\n",
       "      <td>0</td>\n",
       "      <td>3</td>\n",
       "    </tr>\n",
       "    <tr>\n",
       "      <th>...</th>\n",
       "      <td>...</td>\n",
       "      <td>...</td>\n",
       "      <td>...</td>\n",
       "      <td>...</td>\n",
       "      <td>...</td>\n",
       "      <td>...</td>\n",
       "    </tr>\n",
       "    <tr>\n",
       "      <th>1333</th>\n",
       "      <td>50</td>\n",
       "      <td>1</td>\n",
       "      <td>30.970</td>\n",
       "      <td>3</td>\n",
       "      <td>0</td>\n",
       "      <td>3</td>\n",
       "    </tr>\n",
       "    <tr>\n",
       "      <th>1334</th>\n",
       "      <td>18</td>\n",
       "      <td>0</td>\n",
       "      <td>31.920</td>\n",
       "      <td>0</td>\n",
       "      <td>0</td>\n",
       "      <td>4</td>\n",
       "    </tr>\n",
       "    <tr>\n",
       "      <th>1335</th>\n",
       "      <td>18</td>\n",
       "      <td>0</td>\n",
       "      <td>36.850</td>\n",
       "      <td>0</td>\n",
       "      <td>0</td>\n",
       "      <td>2</td>\n",
       "    </tr>\n",
       "    <tr>\n",
       "      <th>1336</th>\n",
       "      <td>21</td>\n",
       "      <td>0</td>\n",
       "      <td>25.800</td>\n",
       "      <td>0</td>\n",
       "      <td>0</td>\n",
       "      <td>1</td>\n",
       "    </tr>\n",
       "    <tr>\n",
       "      <th>1337</th>\n",
       "      <td>61</td>\n",
       "      <td>0</td>\n",
       "      <td>29.070</td>\n",
       "      <td>0</td>\n",
       "      <td>1</td>\n",
       "      <td>3</td>\n",
       "    </tr>\n",
       "  </tbody>\n",
       "</table>\n",
       "<p>1338 rows × 6 columns</p>\n",
       "</div>"
      ],
      "text/plain": [
       "      age  sex     bmi  children  smoker  region\n",
       "0      19    0  27.900         0       1       1\n",
       "1      18    1  33.770         1       0       2\n",
       "2      28    1  33.000         3       0       2\n",
       "3      33    1  22.705         0       0       3\n",
       "4      32    1  28.880         0       0       3\n",
       "...   ...  ...     ...       ...     ...     ...\n",
       "1333   50    1  30.970         3       0       3\n",
       "1334   18    0  31.920         0       0       4\n",
       "1335   18    0  36.850         0       0       2\n",
       "1336   21    0  25.800         0       0       1\n",
       "1337   61    0  29.070         0       1       3\n",
       "\n",
       "[1338 rows x 6 columns]"
      ]
     },
     "execution_count": 12,
     "metadata": {},
     "output_type": "execute_result"
    }
   ],
   "source": [
    "x"
   ]
  },
  {
   "cell_type": "code",
   "execution_count": 13,
   "id": "16e02124",
   "metadata": {},
   "outputs": [],
   "source": [
    "y=df['charges']"
   ]
  },
  {
   "cell_type": "code",
   "execution_count": 14,
   "id": "5446b0c9",
   "metadata": {},
   "outputs": [
    {
     "data": {
      "text/html": [
       "<div>\n",
       "<style scoped>\n",
       "    .dataframe tbody tr th:only-of-type {\n",
       "        vertical-align: middle;\n",
       "    }\n",
       "\n",
       "    .dataframe tbody tr th {\n",
       "        vertical-align: top;\n",
       "    }\n",
       "\n",
       "    .dataframe thead th {\n",
       "        text-align: right;\n",
       "    }\n",
       "</style>\n",
       "<table border=\"1\" class=\"dataframe\">\n",
       "  <thead>\n",
       "    <tr style=\"text-align: right;\">\n",
       "      <th></th>\n",
       "      <th>age</th>\n",
       "      <th>sex</th>\n",
       "      <th>bmi</th>\n",
       "      <th>children</th>\n",
       "      <th>smoker</th>\n",
       "      <th>region</th>\n",
       "    </tr>\n",
       "  </thead>\n",
       "  <tbody>\n",
       "    <tr>\n",
       "      <th>0</th>\n",
       "      <td>19</td>\n",
       "      <td>0</td>\n",
       "      <td>27.900</td>\n",
       "      <td>0</td>\n",
       "      <td>1</td>\n",
       "      <td>1</td>\n",
       "    </tr>\n",
       "    <tr>\n",
       "      <th>1</th>\n",
       "      <td>18</td>\n",
       "      <td>1</td>\n",
       "      <td>33.770</td>\n",
       "      <td>1</td>\n",
       "      <td>0</td>\n",
       "      <td>2</td>\n",
       "    </tr>\n",
       "    <tr>\n",
       "      <th>2</th>\n",
       "      <td>28</td>\n",
       "      <td>1</td>\n",
       "      <td>33.000</td>\n",
       "      <td>3</td>\n",
       "      <td>0</td>\n",
       "      <td>2</td>\n",
       "    </tr>\n",
       "    <tr>\n",
       "      <th>3</th>\n",
       "      <td>33</td>\n",
       "      <td>1</td>\n",
       "      <td>22.705</td>\n",
       "      <td>0</td>\n",
       "      <td>0</td>\n",
       "      <td>3</td>\n",
       "    </tr>\n",
       "    <tr>\n",
       "      <th>4</th>\n",
       "      <td>32</td>\n",
       "      <td>1</td>\n",
       "      <td>28.880</td>\n",
       "      <td>0</td>\n",
       "      <td>0</td>\n",
       "      <td>3</td>\n",
       "    </tr>\n",
       "  </tbody>\n",
       "</table>\n",
       "</div>"
      ],
      "text/plain": [
       "   age  sex     bmi  children  smoker  region\n",
       "0   19    0  27.900         0       1       1\n",
       "1   18    1  33.770         1       0       2\n",
       "2   28    1  33.000         3       0       2\n",
       "3   33    1  22.705         0       0       3\n",
       "4   32    1  28.880         0       0       3"
      ]
     },
     "execution_count": 14,
     "metadata": {},
     "output_type": "execute_result"
    }
   ],
   "source": [
    "x.head()"
   ]
  },
  {
   "cell_type": "code",
   "execution_count": 15,
   "id": "c037b53c",
   "metadata": {},
   "outputs": [
    {
     "data": {
      "text/plain": [
       "0       16884.92400\n",
       "1        1725.55230\n",
       "2        4449.46200\n",
       "3       21984.47061\n",
       "4        3866.85520\n",
       "           ...     \n",
       "1333    10600.54830\n",
       "1334     2205.98080\n",
       "1335     1629.83350\n",
       "1336     2007.94500\n",
       "1337    29141.36030\n",
       "Name: charges, Length: 1338, dtype: float64"
      ]
     },
     "execution_count": 15,
     "metadata": {},
     "output_type": "execute_result"
    }
   ],
   "source": [
    "y"
   ]
  },
  {
   "cell_type": "code",
   "execution_count": 16,
   "id": "45e1a15f",
   "metadata": {},
   "outputs": [],
   "source": [
    "#split the data in train and test datasets\n",
    "from sklearn.model_selection import train_test_split"
   ]
  },
  {
   "cell_type": "code",
   "execution_count": 17,
   "id": "32c789f8",
   "metadata": {},
   "outputs": [],
   "source": [
    "x_train,x_test,y_train,y_test=train_test_split(x,y,test_size=.30,random_state=18)"
   ]
  },
  {
   "cell_type": "code",
   "execution_count": 18,
   "id": "96267533",
   "metadata": {},
   "outputs": [
    {
     "data": {
      "text/plain": [
       "(936, 6)"
      ]
     },
     "execution_count": 18,
     "metadata": {},
     "output_type": "execute_result"
    }
   ],
   "source": [
    "x_train.shape"
   ]
  },
  {
   "cell_type": "code",
   "execution_count": 19,
   "id": "77ffe0e8",
   "metadata": {},
   "outputs": [
    {
     "data": {
      "text/plain": [
       "(402, 6)"
      ]
     },
     "execution_count": 19,
     "metadata": {},
     "output_type": "execute_result"
    }
   ],
   "source": [
    "x_test.shape"
   ]
  },
  {
   "cell_type": "code",
   "execution_count": 20,
   "id": "08b45516",
   "metadata": {},
   "outputs": [
    {
     "data": {
      "text/plain": [
       "(936,)"
      ]
     },
     "execution_count": 20,
     "metadata": {},
     "output_type": "execute_result"
    }
   ],
   "source": [
    "y_train.shape"
   ]
  },
  {
   "cell_type": "code",
   "execution_count": 21,
   "id": "63562bfe",
   "metadata": {},
   "outputs": [
    {
     "data": {
      "text/plain": [
       "(402,)"
      ]
     },
     "execution_count": 21,
     "metadata": {},
     "output_type": "execute_result"
    }
   ],
   "source": [
    "y_test.shape"
   ]
  },
  {
   "cell_type": "code",
   "execution_count": 22,
   "id": "f34ddf38",
   "metadata": {},
   "outputs": [],
   "source": [
    "# Now scale the data \n",
    "from sklearn.preprocessing import StandardScaler"
   ]
  },
  {
   "cell_type": "code",
   "execution_count": 23,
   "id": "9df1c2ca",
   "metadata": {},
   "outputs": [],
   "source": [
    "ss=StandardScaler()"
   ]
  },
  {
   "cell_type": "code",
   "execution_count": 24,
   "id": "02ea3e79",
   "metadata": {},
   "outputs": [],
   "source": [
    "x_train=ss.fit_transform(x_train)"
   ]
  },
  {
   "cell_type": "code",
   "execution_count": 25,
   "id": "1df3dd1f",
   "metadata": {},
   "outputs": [],
   "source": [
    "x_test=ss.transform(x_test)"
   ]
  },
  {
   "cell_type": "code",
   "execution_count": 26,
   "id": "92e83c6b",
   "metadata": {},
   "outputs": [
    {
     "data": {
      "text/plain": [
       "array([[ 1.16960715,  0.98726063,  0.5817846 , -0.90697062, -0.48795004,\n",
       "        -0.41164248],\n",
       "       [-0.11757955, -1.01290376,  1.51289177, -0.90697062, -0.48795004,\n",
       "        -0.41164248],\n",
       "       [ 0.16846193, -1.01290376, -1.21857299, -0.90697062,  2.04939015,\n",
       "         1.38461561],\n",
       "       ...,\n",
       "       [ 0.74054491,  0.98726063,  0.23506112,  0.74946743, -0.48795004,\n",
       "        -1.30977153],\n",
       "       [ 0.5260138 , -1.01290376, -0.69279044,  0.74946743, -0.48795004,\n",
       "         1.38461561],\n",
       "       [ 1.59866938,  0.98726063,  1.29802089, -0.90697062, -0.48795004,\n",
       "        -0.41164248]])"
      ]
     },
     "execution_count": 26,
     "metadata": {},
     "output_type": "execute_result"
    }
   ],
   "source": [
    "x_train"
   ]
  },
  {
   "cell_type": "code",
   "execution_count": 27,
   "id": "28d64682",
   "metadata": {},
   "outputs": [
    {
     "data": {
      "text/plain": [
       "array([[ 1.09809677,  0.98726063, -0.02783016, -0.90697062,  2.04939015,\n",
       "         1.38461561],\n",
       "       [-0.33211067,  0.98726063,  0.94641398, -0.0787516 ,  2.04939015,\n",
       "         1.38461561],\n",
       "       [ 0.38299305, -1.01290376, -0.36722849,  0.74946743, -0.48795004,\n",
       "        -0.41164248],\n",
       "       ...,\n",
       "       [-0.04606918, -1.01290376, -1.07939525,  3.23412451, -0.48795004,\n",
       "         0.48648657],\n",
       "       [ 0.66903454,  0.98726063, -0.35095039, -0.0787516 , -0.48795004,\n",
       "        -1.30977153],\n",
       "       [-0.18908993, -1.01290376, -0.00911034,  0.74946743, -0.48795004,\n",
       "        -0.41164248]])"
      ]
     },
     "execution_count": 27,
     "metadata": {},
     "output_type": "execute_result"
    }
   ],
   "source": [
    "x_test"
   ]
  },
  {
   "cell_type": "code",
   "execution_count": 28,
   "id": "fd7561bb",
   "metadata": {},
   "outputs": [],
   "source": [
    "# training the model\n",
    "\n",
    "from sklearn.linear_model import LinearRegression"
   ]
  },
  {
   "cell_type": "code",
   "execution_count": 29,
   "id": "40ad666a",
   "metadata": {},
   "outputs": [],
   "source": [
    "lr=LinearRegression()"
   ]
  },
  {
   "cell_type": "code",
   "execution_count": 30,
   "id": "efde5b81",
   "metadata": {},
   "outputs": [
    {
     "data": {
      "text/plain": [
       "LinearRegression()"
      ]
     },
     "execution_count": 30,
     "metadata": {},
     "output_type": "execute_result"
    }
   ],
   "source": [
    "lr.fit(x_train,y_train)"
   ]
  },
  {
   "cell_type": "code",
   "execution_count": 31,
   "id": "5a5aa7ae",
   "metadata": {},
   "outputs": [
    {
     "data": {
      "text/plain": [
       "13077.88500392094"
      ]
     },
     "execution_count": 31,
     "metadata": {},
     "output_type": "execute_result"
    }
   ],
   "source": [
    "lr.intercept_"
   ]
  },
  {
   "cell_type": "code",
   "execution_count": 32,
   "id": "a758b46e",
   "metadata": {},
   "outputs": [
    {
     "data": {
      "text/plain": [
       "array([3513.54948692,   23.10643299, 1751.51613431,  652.67113529,\n",
       "       9316.89031258,  349.83745628])"
      ]
     },
     "execution_count": 32,
     "metadata": {},
     "output_type": "execute_result"
    }
   ],
   "source": [
    "lr.coef_"
   ]
  },
  {
   "cell_type": "code",
   "execution_count": 33,
   "id": "1040dcfb",
   "metadata": {},
   "outputs": [],
   "source": [
    "reg_pred=lr.predict(x_test)"
   ]
  },
  {
   "cell_type": "code",
   "execution_count": 34,
   "id": "a8e46fd4",
   "metadata": {},
   "outputs": [
    {
     "data": {
      "text/plain": [
       "array([ 3.58965496e+04,  3.31184039e+04,  9.55590966e+03,  3.14961288e+04,\n",
       "        3.84254866e+04,  4.04309551e+03,  3.14978932e+04,  1.34060157e+04,\n",
       "        3.49653028e+04,  3.12343826e+04,  1.31570793e+03,  3.18319352e+04,\n",
       "        3.55550373e+04,  3.38640007e+03,  1.48230922e+04,  1.20240874e+04,\n",
       "        1.25075368e+04,  2.35805688e+04,  7.90335826e+03,  2.81942379e+04,\n",
       "        3.52365574e+04,  8.89494532e+03,  3.18086614e+03,  4.70170770e+03,\n",
       "        2.00363977e+02,  3.00884418e+03,  2.67987191e+04,  5.11167542e+03,\n",
       "        4.78888212e+03,  2.62668008e+04,  3.00784744e+04,  3.32664843e+02,\n",
       "        4.21618351e+03,  2.46191797e+03,  2.71634537e+04,  1.71349920e+03,\n",
       "        1.57569379e+04,  1.20937254e+04,  3.03248247e+04,  2.85395322e+03,\n",
       "        4.45080782e+03,  3.49497004e+04,  4.21689420e+03,  3.37745534e+04,\n",
       "        8.11767237e+03,  4.94963244e+03,  3.75336800e+04,  3.33124387e+04,\n",
       "        9.56686769e+03, -8.34817022e+02,  1.07412256e+04,  3.08827718e+04,\n",
       "        4.24835236e+03,  6.78864707e+03,  3.64804339e+03,  6.77527114e+03,\n",
       "        9.26833290e+03,  1.39737311e+04,  5.68342713e+03,  5.01607996e+03,\n",
       "        1.45435902e+04,  4.33248502e+03,  6.14736066e+03,  7.40146353e+03,\n",
       "        7.86187278e+03,  9.51980311e+03,  7.64211170e+03,  1.38906831e+03,\n",
       "        1.11844565e+04,  8.92898154e+03,  5.30256980e+03,  1.25678437e+04,\n",
       "        2.82339586e+03,  2.87679479e+04,  9.39980740e+03,  1.48600785e+04,\n",
       "        2.50685059e+04,  1.60056895e+04,  2.68980496e+04,  2.72317984e+04,\n",
       "       -1.23831056e+03,  1.49281332e+04,  7.18966932e+03,  3.01207296e+04,\n",
       "        1.03020885e+04,  3.43132487e+04,  4.61145429e+03,  2.53911760e+03,\n",
       "        1.00439783e+04,  1.14055315e+04,  2.50339945e+03,  3.17822631e+04,\n",
       "        7.20869759e+03,  1.33927430e+04,  1.61267249e+03,  3.71030304e+04,\n",
       "        9.64964177e+03,  9.36951149e+03,  3.45608391e+04,  1.12562849e+04,\n",
       "        1.17284332e+04,  1.19513209e+04,  3.44897422e+04,  7.59708872e+03,\n",
       "        6.59670402e+03,  4.48533050e+03,  2.89364169e+04,  4.78558468e+03,\n",
       "        4.77391575e+03,  2.60989385e+04,  7.93123151e+02,  1.18479279e+04,\n",
       "        5.44178787e+03,  3.37598434e+04,  6.78808597e+03,  1.04411657e+04,\n",
       "        3.65177333e+04,  7.85352165e+03,  7.56367296e+03,  3.09094442e+03,\n",
       "        3.07944273e+04,  3.06476439e+04,  1.38571483e+04,  7.42349198e+03,\n",
       "        3.01778384e+04,  1.20666395e+04,  3.43631236e+04,  8.69453571e+03,\n",
       "        3.35099645e+04,  4.23233646e+03,  3.51421761e+03,  8.79505716e+03,\n",
       "       -5.35827367e+02,  1.41616454e+04,  1.42236016e+04,  1.23405306e+04,\n",
       "        4.61785543e+03,  1.13205137e+04,  2.13214016e+03,  1.33566617e+04,\n",
       "        3.86029504e+04,  1.04978744e+04,  4.33772515e+03,  1.42004697e+04,\n",
       "        2.78638654e+04,  2.87741088e+03,  2.83248237e+04,  4.00838797e+04,\n",
       "        2.79242309e+04,  7.12584146e+03,  9.71496931e+03,  7.98956160e+03,\n",
       "        5.14334419e+03,  7.65513227e+03,  3.87795213e+03,  8.20740957e+03,\n",
       "        1.12459304e+04,  7.84783608e+03,  3.40139420e+04,  1.33164244e+04,\n",
       "        1.11193265e+04,  1.54196983e+04,  4.34858404e+03,  1.13008915e+04,\n",
       "        5.56393637e+03,  1.10705815e+03,  2.35597932e+03,  3.06576057e+04,\n",
       "        1.09821506e+04,  1.35389738e+04,  6.58985310e+03,  1.15106186e+04,\n",
       "        1.24816988e+04,  3.17251907e+04,  4.53014371e+03,  5.46009292e+03,\n",
       "        1.43020120e+04,  3.80109950e+03,  1.53003672e+04,  5.52701216e+03,\n",
       "        1.43440956e+03,  5.10150652e+03,  3.08571264e+03,  7.77809877e+03,\n",
       "        3.66304078e+04,  6.03129937e+03,  1.97496421e+03,  1.31998576e+04,\n",
       "        1.03789084e+04,  3.19778508e+04,  2.99883701e+04,  7.45263577e+03,\n",
       "        7.49222081e+03,  7.79937427e+03,  1.15409646e+04,  8.88906218e+03,\n",
       "        5.31458119e+03,  1.24711453e+04,  5.16012818e+03,  4.03996449e+04,\n",
       "        9.57849976e+03,  1.32606643e+03,  1.44215027e+04,  3.12452996e+03,\n",
       "        7.31573988e+03,  5.69164171e+03,  2.47497123e+03,  4.54445300e+03,\n",
       "        4.33286106e+03,  4.29017286e+03,  1.27099300e+04,  3.32641630e+04,\n",
       "        3.18907430e+04,  7.67285828e+03,  6.53891219e+03,  7.24910538e+03,\n",
       "        1.12548837e+04,  4.00153090e+03,  1.13211746e+04,  1.00606880e+04,\n",
       "        8.91411848e+03,  3.46505067e+03,  7.62109604e+03,  8.70459712e+03,\n",
       "        1.03625285e+04,  1.10754851e+04,  6.31752867e+03,  1.06391013e+04,\n",
       "        6.26114133e+03,  1.30331748e+04,  6.97694708e+03,  9.09547153e+03,\n",
       "        9.90807769e+03,  3.57980501e+04,  1.54946039e+04,  5.84628535e+03,\n",
       "        9.69653172e+03,  7.50956243e+03,  2.69482131e+04,  1.14392196e+04,\n",
       "        4.03617412e+03,  8.02893184e+03,  2.71547062e+04,  2.75125442e+03,\n",
       "        1.01091693e+04,  2.35131386e+03,  9.89413634e+03,  3.14666429e+04,\n",
       "        3.13548245e+04,  1.33631377e+04,  2.08446835e+03,  8.30556710e+03,\n",
       "        1.03897919e+04,  4.15212863e+03,  3.51287893e+04,  1.29018519e+04,\n",
       "        2.73121880e+04,  1.30275789e+04,  3.69814361e+04,  1.59265229e+04,\n",
       "        5.44739557e+03,  1.41735335e+04,  2.87743924e+03,  4.44453470e+03,\n",
       "        4.37268199e+03,  8.57117244e+03,  2.17620056e+03,  2.26526809e+03,\n",
       "        8.87409580e+03,  2.80993616e+04,  1.07131934e+04,  1.31259727e+04,\n",
       "        1.66820149e+04,  1.13185679e+04,  3.03681454e+04,  1.05252498e+04,\n",
       "        3.86498910e+04,  4.49240549e+03,  1.11533954e+04,  3.49461501e+03,\n",
       "        6.85077353e+03,  2.63013449e+04,  1.28930552e+04,  2.48039659e+03,\n",
       "        2.39751470e+03,  9.94675832e+03,  3.70207155e+04,  1.60992105e+04,\n",
       "        1.11332031e+04,  1.00946876e+04,  3.31329738e+04,  1.14575330e+04,\n",
       "        3.79543671e+04,  3.84158631e+04,  2.89004349e+04,  1.07428245e+03,\n",
       "        1.09585728e+04,  1.49871556e+04,  1.41606326e+04,  8.56153682e+03,\n",
       "        1.11797377e+04,  1.25381174e+04,  5.81303393e+03,  2.68892772e+04,\n",
       "        8.10228945e+03,  4.92581942e+03,  1.14744209e+04,  4.22593933e+03,\n",
       "        1.17709147e+04,  3.48885457e+04,  2.54476232e+03,  2.94945454e+04,\n",
       "        8.67498666e+03,  1.61079495e+04,  7.62484818e+03,  1.41222089e+04,\n",
       "        8.34571380e+03,  9.26097790e+03,  1.38741227e+04,  1.33477406e+04,\n",
       "        3.65092220e+04,  3.48430975e+03,  2.88720690e+04,  2.80764450e+04,\n",
       "        1.49408026e+04,  5.76223428e+03,  3.25711191e+03,  3.24230609e+03,\n",
       "        6.05216975e+03,  2.49721781e+03,  3.39933749e+03,  2.20953876e+03,\n",
       "        1.11436858e+04,  1.06959045e+04,  1.46817379e+04,  8.56929292e+03,\n",
       "        2.52597720e+03,  1.66575033e+04,  4.18404095e+03,  1.05869787e+04,\n",
       "        1.08396680e+04,  1.33878878e+04,  8.83842686e+03,  1.20611804e+04,\n",
       "        1.26708119e+04,  4.29838776e+03,  8.72254351e+03,  5.61660341e+03,\n",
       "        8.24185035e+03,  2.59763155e+04,  3.54474471e+04,  1.00168925e+04,\n",
       "        7.35669623e+03,  1.09334130e+04,  2.35499624e+03,  9.26612308e+03,\n",
       "        1.65986820e+03,  5.27410421e+03,  1.16471052e+04,  3.26629370e+04,\n",
       "        4.88988261e+03,  4.15942954e+03,  8.78208218e+03,  2.53292319e+04,\n",
       "        4.49157077e+03,  7.76310699e+03,  1.00708617e+04,  3.17996804e+04,\n",
       "        2.50291306e+04,  4.27841676e+03,  8.10406619e+03,  3.71640922e+03,\n",
       "        3.33307765e+04,  1.19196773e+04,  3.92048871e+04,  2.64946394e+04,\n",
       "        1.42019695e+04,  2.58138008e+04,  9.14661856e+03,  1.43701171e+04,\n",
       "        7.71109310e+03,  1.30906349e+04,  1.34352669e+04,  3.68132433e+04,\n",
       "        5.95928959e+03,  2.38621199e+04,  1.07100367e+04, -2.82227188e+01,\n",
       "        2.88601892e+04,  6.36892336e+03,  1.03028733e+04,  4.24305519e+03,\n",
       "        2.46417653e+04,  2.61757744e+04,  3.24734531e+04,  1.32064360e+04,\n",
       "        1.36140372e+04,  9.18004755e+03,  5.27753367e+03,  8.73686983e+03,\n",
       "        9.78090477e+03,  8.17311752e+03])"
      ]
     },
     "execution_count": 34,
     "metadata": {},
     "output_type": "execute_result"
    }
   ],
   "source": [
    "reg_pred"
   ]
  },
  {
   "cell_type": "code",
   "execution_count": 35,
   "id": "315036ed",
   "metadata": {},
   "outputs": [
    {
     "data": {
      "text/html": [
       "<div>\n",
       "<style scoped>\n",
       "    .dataframe tbody tr th:only-of-type {\n",
       "        vertical-align: middle;\n",
       "    }\n",
       "\n",
       "    .dataframe tbody tr th {\n",
       "        vertical-align: top;\n",
       "    }\n",
       "\n",
       "    .dataframe thead th {\n",
       "        text-align: right;\n",
       "    }\n",
       "</style>\n",
       "<table border=\"1\" class=\"dataframe\">\n",
       "  <thead>\n",
       "    <tr style=\"text-align: right;\">\n",
       "      <th></th>\n",
       "      <th>True_value</th>\n",
       "      <th>Predicted_value</th>\n",
       "    </tr>\n",
       "  </thead>\n",
       "  <tbody>\n",
       "    <tr>\n",
       "      <th>0</th>\n",
       "      <td>42303.69215</td>\n",
       "      <td>35896.549589</td>\n",
       "    </tr>\n",
       "    <tr>\n",
       "      <th>1</th>\n",
       "      <td>39774.27630</td>\n",
       "      <td>33118.403929</td>\n",
       "    </tr>\n",
       "    <tr>\n",
       "      <th>2</th>\n",
       "      <td>8516.82900</td>\n",
       "      <td>9555.909662</td>\n",
       "    </tr>\n",
       "    <tr>\n",
       "      <th>3</th>\n",
       "      <td>39611.75770</td>\n",
       "      <td>31496.128791</td>\n",
       "    </tr>\n",
       "    <tr>\n",
       "      <th>4</th>\n",
       "      <td>47291.05500</td>\n",
       "      <td>38425.486577</td>\n",
       "    </tr>\n",
       "    <tr>\n",
       "      <th>...</th>\n",
       "      <td>...</td>\n",
       "      <td>...</td>\n",
       "    </tr>\n",
       "    <tr>\n",
       "      <th>397</th>\n",
       "      <td>8059.67910</td>\n",
       "      <td>9180.047553</td>\n",
       "    </tr>\n",
       "    <tr>\n",
       "      <th>398</th>\n",
       "      <td>3947.41310</td>\n",
       "      <td>5277.533670</td>\n",
       "    </tr>\n",
       "    <tr>\n",
       "      <th>399</th>\n",
       "      <td>8965.79575</td>\n",
       "      <td>8736.869831</td>\n",
       "    </tr>\n",
       "    <tr>\n",
       "      <th>400</th>\n",
       "      <td>8703.45600</td>\n",
       "      <td>9780.904769</td>\n",
       "    </tr>\n",
       "    <tr>\n",
       "      <th>401</th>\n",
       "      <td>6313.75900</td>\n",
       "      <td>8173.117517</td>\n",
       "    </tr>\n",
       "  </tbody>\n",
       "</table>\n",
       "<p>402 rows × 2 columns</p>\n",
       "</div>"
      ],
      "text/plain": [
       "      True_value  Predicted_value\n",
       "0    42303.69215     35896.549589\n",
       "1    39774.27630     33118.403929\n",
       "2     8516.82900      9555.909662\n",
       "3    39611.75770     31496.128791\n",
       "4    47291.05500     38425.486577\n",
       "..           ...              ...\n",
       "397   8059.67910      9180.047553\n",
       "398   3947.41310      5277.533670\n",
       "399   8965.79575      8736.869831\n",
       "400   8703.45600      9780.904769\n",
       "401   6313.75900      8173.117517\n",
       "\n",
       "[402 rows x 2 columns]"
      ]
     },
     "execution_count": 35,
     "metadata": {},
     "output_type": "execute_result"
    }
   ],
   "source": [
    "pd.DataFrame(np.c_[y_test,reg_pred],columns=['True_value','Predicted_value'])"
   ]
  },
  {
   "cell_type": "code",
   "execution_count": 36,
   "id": "8f41ccc0",
   "metadata": {},
   "outputs": [],
   "source": [
    "residual=y_test-reg_pred"
   ]
  },
  {
   "cell_type": "code",
   "execution_count": 37,
   "id": "35a9cad0",
   "metadata": {},
   "outputs": [
    {
     "data": {
      "text/plain": [
       "381    6407.142561\n",
       "38     6655.872371\n",
       "197   -1039.080662\n",
       "14     8115.628909\n",
       "94     8865.568423\n",
       "          ...     \n",
       "54    -1120.368453\n",
       "76    -1330.120570\n",
       "937     228.925919\n",
       "666   -1077.448769\n",
       "43    -1859.358517\n",
       "Name: charges, Length: 402, dtype: float64"
      ]
     },
     "execution_count": 37,
     "metadata": {},
     "output_type": "execute_result"
    }
   ],
   "source": [
    "residual"
   ]
  },
  {
   "cell_type": "code",
   "execution_count": 38,
   "id": "c94e820c",
   "metadata": {},
   "outputs": [
    {
     "data": {
      "text/plain": [
       "<matplotlib.collections.PathCollection at 0x21161852310>"
      ]
     },
     "execution_count": 38,
     "metadata": {},
     "output_type": "execute_result"
    },
    {
     "data": {
      "image/png": "[encoded data removed]",
      "text/plain": [
       "<Figure size 432x288 with 1 Axes>"
      ]
     },
     "metadata": {
      "needs_background": "light"
     },
     "output_type": "display_data"
    }
   ],
   "source": [
    "plt.scatter(y_test,reg_pred)"
   ]
  },
  {
   "cell_type": "code",
   "execution_count": 39,
   "id": "3dcac3ff",
   "metadata": {},
   "outputs": [
    {
     "data": {
      "text/plain": [
       "<seaborn.axisgrid.FacetGrid at 0x2116187ca60>"
      ]
     },
     "execution_count": 39,
     "metadata": {},
     "output_type": "execute_result"
    },
    {
     "data": {
      "image/png": "[encoded data removed]",
      "text/plain": [
       "<Figure size 360x360 with 1 Axes>"
      ]
     },
     "metadata": {
      "needs_background": "light"
     },
     "output_type": "display_data"
    }
   ],
   "source": [
    "sns.displot(residual,kind='kde')"
   ]
  },
  {
   "cell_type": "code",
   "execution_count": 40,
   "id": "44aaa9f5",
   "metadata": {},
   "outputs": [],
   "source": [
    "# accuracy check\n",
    "from sklearn.metrics import r2_score"
   ]
  },
  {
   "cell_type": "code",
   "execution_count": 41,
   "id": "f66db848",
   "metadata": {},
   "outputs": [],
   "source": [
    "score=r2_score(y_test,reg_pred)"
   ]
  },
  {
   "cell_type": "code",
   "execution_count": 42,
   "id": "1c73ee72",
   "metadata": {},
   "outputs": [
    {
     "data": {
      "text/plain": [
       "0.7675694401316939"
      ]
     },
     "execution_count": 42,
     "metadata": {},
     "output_type": "execute_result"
    }
   ],
   "source": [
    "score"
   ]
  },
  {
   "cell_type": "code",
   "execution_count": 43,
   "id": "52608b4f",
   "metadata": {},
   "outputs": [],
   "source": [
    "# save the model\n",
    "import joblib"
   ]
  },
  {
   "cell_type": "code",
   "execution_count": 44,
   "id": "bc4869ce",
   "metadata": {},
   "outputs": [
    {
     "data": {
      "text/plain": [
       "['Insurance_cost_prediction.pkl']"
      ]
     },
     "execution_count": 44,
     "metadata": {},
     "output_type": "execute_result"
    }
   ],
   "source": [
    "joblib.dump(lr,'Insurance_cost_prediction.pkl')"
   ]
  },
  {
   "cell_type": "code",
   "execution_count": 45,
   "id": "07667109",
   "metadata": {},
   "outputs": [],
   "source": [
    "#load the model\n",
    "ranjeet=joblib.load('Insurance_cost_prediction.pkl')"
   ]
  },
  {
   "cell_type": "code",
   "execution_count": 46,
   "id": "d2257bdc",
   "metadata": {},
   "outputs": [
    {
     "data": {
      "text/html": [
       "<div>\n",
       "<style scoped>\n",
       "    .dataframe tbody tr th:only-of-type {\n",
       "        vertical-align: middle;\n",
       "    }\n",
       "\n",
       "    .dataframe tbody tr th {\n",
       "        vertical-align: top;\n",
       "    }\n",
       "\n",
       "    .dataframe thead th {\n",
       "        text-align: right;\n",
       "    }\n",
       "</style>\n",
       "<table border=\"1\" class=\"dataframe\">\n",
       "  <thead>\n",
       "    <tr style=\"text-align: right;\">\n",
       "      <th></th>\n",
       "      <th>age</th>\n",
       "      <th>sex</th>\n",
       "      <th>bmi</th>\n",
       "      <th>children</th>\n",
       "      <th>smoker</th>\n",
       "      <th>region</th>\n",
       "      <th>charges</th>\n",
       "    </tr>\n",
       "  </thead>\n",
       "  <tbody>\n",
       "    <tr>\n",
       "      <th>0</th>\n",
       "      <td>19</td>\n",
       "      <td>0</td>\n",
       "      <td>27.9</td>\n",
       "      <td>0</td>\n",
       "      <td>1</td>\n",
       "      <td>1</td>\n",
       "      <td>16884.924</td>\n",
       "    </tr>\n",
       "  </tbody>\n",
       "</table>\n",
       "</div>"
      ],
      "text/plain": [
       "   age  sex   bmi  children  smoker  region    charges\n",
       "0   19    0  27.9         0       1       1  16884.924"
      ]
     },
     "execution_count": 46,
     "metadata": {},
     "output_type": "execute_result"
    }
   ],
   "source": [
    "df.head(1)"
   ]
  },
  {
   "cell_type": "code",
   "execution_count": 47,
   "id": "536fc981",
   "metadata": {},
   "outputs": [
    {
     "name": "stderr",
     "output_type": "stream",
     "text": [
      "C:\\Users\\RANJEET\\anaconda3\\lib\\site-packages\\sklearn\\base.py:450: UserWarning: X does not have valid feature names, but StandardScaler was fitted with feature names\n",
      "  warnings.warn(\n"
     ]
    },
    {
     "data": {
      "text/plain": [
       "1911.1730209930338"
      ]
     },
     "execution_count": 47,
     "metadata": {},
     "output_type": "execute_result"
    }
   ],
   "source": [
    "ranjeet.predict(ss.transform([[28,1,21.5,0,0,1]]))[0]"
   ]
  },
  {
   "cell_type": "code",
   "execution_count": 48,
   "id": "7c030459",
   "metadata": {},
   "outputs": [
    {
     "name": "stdout",
     "output_type": "stream",
     "text": [
      "Enter the age:45\n",
      "Enter the sex(male=1/female=0):1\n",
      "Enter the bmi:22\n",
      "Enter the children:5\n",
      "Enter the smoker(yes=1/no=0):0\n",
      "Enter the region(1,2,3,4):4\n",
      "The person can get the insurance in 9970.439520986027\n"
     ]
    },
    {
     "name": "stderr",
     "output_type": "stream",
     "text": [
      "C:\\Users\\RANJEET\\anaconda3\\lib\\site-packages\\sklearn\\base.py:450: UserWarning: X does not have valid feature names, but StandardScaler was fitted with feature names\n",
      "  warnings.warn(\n"
     ]
    }
   ],
   "source": [
    "list=[]\n",
    "a=float(input(\"Enter the age:\"))\n",
    "list.append(a)\n",
    "b=float(input(\"Enter the sex(male=1/female=0):\"))\n",
    "list.append(b)\n",
    "c=float(input(\"Enter the bmi:\"))\n",
    "list.append(c)\n",
    "d=float(input(\"Enter the children:\"))\n",
    "list.append(d)\n",
    "e=float(input(\"Enter the smoker(yes=1/no=0):\"))\n",
    "list.append(e)\n",
    "f=float(input(\"Enter the region(1,2,3,4):\"))\n",
    "list.append(f)\n",
    "\n",
    "Predicted_value=ranjeet.predict(ss.transform([list]))[0]\n",
    "print(f'The person can get the insurance in {Predicted_value}')"
   ]
  },
  {
   "cell_type": "code",
   "execution_count": null,
   "id": "8b84f1e6",
   "metadata": {},
   "outputs": [],
   "source": []
  }
 ],
 "metadata": {
  "kernelspec": {
   "display_name": "Python 3 (ipykernel)",
   "language": "python",
   "name": "python3"
  },
  "language_info": {
   "codemirror_mode": {
    "name": "ipython",
    "version": 3
   },
   "file_extension": ".py",
   "mimetype": "text/x-python",
   "name": "python",
   "nbconvert_exporter": "python",
   "pygments_lexer": "ipython3",
   "version": "3.9.12"
  }
 },
 "nbformat": 4,
 "nbformat_minor": 5
}
